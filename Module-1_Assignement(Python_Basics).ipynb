{
 "cells": [
  {
   "cell_type": "code",
   "execution_count": null,
   "id": "ece98e3e",
   "metadata": {},
   "outputs": [
    {
     "name": "stdout",
     "output_type": "stream",
     "text": [
      "Hello World\n"
     ]
    }
   ],
   "source": [
    "# 1.Write a Python program to print \"Hello, World!\n",
    "print(\"Hello World\")"
   ]
  },
  {
   "cell_type": "code",
   "execution_count": 2,
   "id": "51eb4c1d",
   "metadata": {},
   "outputs": [
    {
     "name": "stdout",
     "output_type": "stream",
     "text": [
      "My name is Sk Aman and age is 22\n"
     ]
    }
   ],
   "source": [
    "# 2.Write a Python program that displays your name and age\n",
    "name=\"Sk Aman\"\n",
    "age=22\n",
    "print(f\"My name is {name} and age is {age}\")"
   ]
  },
  {
   "cell_type": "code",
   "execution_count": null,
   "id": "73f5dae1",
   "metadata": {},
   "outputs": [
    {
     "name": "stdout",
     "output_type": "stream",
     "text": [
      "['False', 'None', 'True', 'and', 'as', 'assert', 'async', 'await', 'break', 'class', 'continue', 'def', 'del', 'elif', 'else', 'except', 'finally', 'for', 'from', 'global', 'if', 'import', 'in', 'is', 'lambda', 'nonlocal', 'not', 'or', 'pass', 'raise', 'return', 'try', 'while', 'with', 'yield']\n",
      "/n\n"
     ]
    }
   ],
   "source": [
    "# 3.Write code to print all the pre-defined keywords in Python using the keyword library\n",
    "import keyword\n",
    "print(keyword.kwlist)"
   ]
  },
  {
   "cell_type": "code",
   "execution_count": 12,
   "id": "0bbb2677",
   "metadata": {},
   "outputs": [
    {
     "name": "stdout",
     "output_type": "stream",
     "text": [
      "YES\n"
     ]
    }
   ],
   "source": [
    "#4.Write a program that checks if a given word is a Python keyword.\n",
    "import keyword\n",
    "keywords=keyword.kwlist\n",
    "your_input=input(\"Enter the keyword\")\n",
    "if your_input in keywords:\n",
    "    print(\"YES\")\n",
    "else:\n",
    "    print(\"no\")"
   ]
  },
  {
   "cell_type": "code",
   "execution_count": null,
   "id": "aade507c",
   "metadata": {},
   "outputs": [
    {
     "ename": "TypeError",
     "evalue": "'tuple' object does not support item assignment",
     "output_type": "error",
     "traceback": [
      "\u001b[1;31m---------------------------------------------------------------------------\u001b[0m",
      "\u001b[1;31mTypeError\u001b[0m                                 Traceback (most recent call last)",
      "Cell \u001b[1;32mIn[17], line 5\u001b[0m\n\u001b[0;32m      3\u001b[0m tup\u001b[38;5;241m=\u001b[39m(\u001b[38;5;241m1\u001b[39m,\u001b[38;5;241m2\u001b[39m,\u001b[38;5;241m3\u001b[39m)\n\u001b[0;32m      4\u001b[0m lis[\u001b[38;5;241m0\u001b[39m]\u001b[38;5;241m=\u001b[39m\u001b[38;5;124m\"\u001b[39m\u001b[38;5;124mAman\u001b[39m\u001b[38;5;124m\"\u001b[39m;\n\u001b[1;32m----> 5\u001b[0m tup[\u001b[38;5;241m0\u001b[39m]\u001b[38;5;241m=\u001b[39m\u001b[38;5;124m\"\u001b[39m\u001b[38;5;124msohan\u001b[39m\u001b[38;5;124m\"\u001b[39m\n",
      "\u001b[1;31mTypeError\u001b[0m: 'tuple' object does not support item assignment"
     ]
    }
   ],
   "source": [
    "#5.Create a list and tuple in Python, and demonstrate how attempting to change an element works differentlyfor each.\n",
    "lis=[1,2,3]\n",
    "tup=(1,2,3)\n",
    "lis[0]=\"Aman\";\n",
    "tup[0]=\"sohan\";"
   ]
  },
  {
   "cell_type": "code",
   "execution_count": null,
   "id": "382d803b",
   "metadata": {},
   "outputs": [],
   "source": [
    "#6. Write a function to demonstrate the behavior of mutable and immutable arguments.\n",
    "lis=[1,2,3]\n",
    "tup=(1,2,3)\n",
    "lis[0]=\"Aman\" #mutable\n",
    "tup[0]=\"sohan\" #immutable"
   ]
  },
  {
   "cell_type": "code",
   "execution_count": null,
   "id": "54357011",
   "metadata": {},
   "outputs": [
    {
     "name": "stdout",
     "output_type": "stream",
     "text": [
      "30\n"
     ]
    }
   ],
   "source": [
    "#7.Write a program that performs basic arithmetic operations on two user-input numbers.\n",
    "number1=int(input(\"Enter the first number\"))\n",
    "number2=int(input(\"Enter the second number\"))\n",
    "operator=input(\"Enter the operator\")\n",
    "match(operator):\n",
    "    case \"+\":\n",
    "        print(number1+number2)\n",
    "    case \"-\":\n",
    "        print(number1-number2)\n",
    "    case \"/\":\n",
    "        print(number1/number2)\n",
    "    case \"*\":\n",
    "        print(number1*number2)\n",
    "    "
   ]
  },
  {
   "cell_type": "code",
   "execution_count": 20,
   "id": "dd352197",
   "metadata": {},
   "outputs": [
    {
     "name": "stdout",
     "output_type": "stream",
     "text": [
      "14\n"
     ]
    }
   ],
   "source": [
    "#8. Write a program to demonstrate the use of logical operators.\n",
    "number1=int(input(\"Enter the first number\"))\n",
    "number2=int(input(\"Enter the second number\"))\n",
    "if(number1>number2):\n",
    "    print(number1)\n",
    "else:\n",
    "    print(number2)"
   ]
  },
  {
   "cell_type": "code",
   "execution_count": 22,
   "id": "70ee1c4d",
   "metadata": {},
   "outputs": [
    {
     "name": "stdout",
     "output_type": "stream",
     "text": [
      "the float conversion is \n"
     ]
    }
   ],
   "source": [
    "#9. Write a Python program to convert user input from string to integer, float, and boolean types.\n",
    "str=input(\"Enter the string\")\n",
    "print(f\"the float conversion is \")"
   ]
  },
  {
   "cell_type": "code",
   "execution_count": 33,
   "id": "c1633209",
   "metadata": {},
   "outputs": [
    {
     "name": "stdout",
     "output_type": "stream",
     "text": [
      "<class 'list'>\n"
     ]
    }
   ],
   "source": [
    "#10.Write code to demonstrate type casting with list elements.\n",
    "lis=[1,2,3,3.5]\n",
    "print(type(lis))"
   ]
  },
  {
   "cell_type": "code",
   "execution_count": 35,
   "id": "2062107d",
   "metadata": {},
   "outputs": [
    {
     "name": "stdout",
     "output_type": "stream",
     "text": [
      "is zero\n"
     ]
    }
   ],
   "source": [
    "#11. Write a program that checks if a number is positive, negative, or zero.\n",
    "number1=int(input(\"Enter the number\"))\n",
    "if(number1>0):\n",
    "    print(\"greater then 0\")\n",
    "elif(number1<0):\n",
    "    print(\"less then 0\")\n",
    "else:\n",
    "    print(\"is zero\")"
   ]
  },
  {
   "cell_type": "code",
   "execution_count": null,
   "id": "5539ddf0",
   "metadata": {},
   "outputs": [
    {
     "name": "stdout",
     "output_type": "stream",
     "text": [
      "1\n",
      "2\n",
      "3\n",
      "4\n",
      "5\n",
      "6\n",
      "7\n",
      "8\n",
      "9\n",
      "10\n"
     ]
    }
   ],
   "source": [
    "#12.Write a for loop to print numbers from 1 to 10.\n",
    "for i in range(1,11):\n",
    "    print(i)"
   ]
  },
  {
   "cell_type": "code",
   "execution_count": 38,
   "id": "d94d08fe",
   "metadata": {},
   "outputs": [
    {
     "name": "stdout",
     "output_type": "stream",
     "text": [
      "650\n"
     ]
    }
   ],
   "source": [
    "# 13. Write a Python program to find the sum of all even numbers between 1 and 50.\n",
    "sum=0;\n",
    "for i in range(1,51):\n",
    "    if(i%2!=0):\n",
    "        continue;\n",
    "    sum=sum+i\n",
    "print(sum)"
   ]
  },
  {
   "cell_type": "code",
   "execution_count": 47,
   "id": "12d4e586",
   "metadata": {},
   "outputs": [
    {
     "name": "stdout",
     "output_type": "stream",
     "text": [
      "dcba\n"
     ]
    }
   ],
   "source": [
    "#14.Write a program to reverse a string using a while loop.\n",
    "p=\"abcd\"\n",
    "s=\"\"\n",
    "i=len(p)-1\n",
    "while(i>=0):\n",
    "    s+=p[i]\n",
    "    i-=1\n",
    "print(s)"
   ]
  },
  {
   "cell_type": "code",
   "execution_count": null,
   "id": "17eb4f97",
   "metadata": {},
   "outputs": [
    {
     "name": "stdout",
     "output_type": "stream",
     "text": [
      "24\n"
     ]
    }
   ],
   "source": [
    "#15. Write a Python program to calculate the factorial of a number provided by the user using a while loop.\n",
    "fact_number=int(input(\"Enter the number\"));\n",
    "ans=1\n",
    "while(fact_number>=0):ś\n",
    "    if(fact_number==0):\n",
    "        ans*=1;\n",
    "        break;\n",
    "    else:\n",
    "        ans*=fact_number\n",
    "        fact_number-=1\n",
    "print(ans)"
   ]
  }
 ],
 "metadata": {
  "kernelspec": {
   "display_name": "base",
   "language": "python",
   "name": "python3"
  },
  "language_info": {
   "codemirror_mode": {
    "name": "ipython",
    "version": 3
   },
   "file_extension": ".py",
   "mimetype": "text/x-python",
   "name": "python",
   "nbconvert_exporter": "python",
   "pygments_lexer": "ipython3",
   "version": "3.13.5"
  }
 },
 "nbformat": 4,
 "nbformat_minor": 5
}
